{
 "cells": [
  {
   "cell_type": "code",
   "execution_count": 1,
   "metadata": {
    "collapsed": false
   },
   "outputs": [
    {
     "name": "stderr",
     "output_type": "stream",
     "text": [
      "Using Theano backend.\n"
     ]
    }
   ],
   "source": [
    "import os\n",
    "import cPickle as pickle\n",
    "import time\n",
    "import numpy as np\n",
    "import matplotlib.pyplot as plt\n",
    "import matplotlib.animation as animation\n",
    "from keras.models import Sequential\n",
    "from keras.layers import Dense\n",
    "\n",
    "\n",
    "nn_layer1 = 100 \n",
    "nn_layer2 = 50\n",
    "model = Sequential()\n",
    "model.add(Dense(nn_layer1, input_shape=(1,), init='normal', activation='relu'))\n",
    "model.add(Dense(nn_layer2, init='normal', activation='relu'))\n",
    "model.add(Dense(1, init='normal'))\n",
    "\n",
    "# Compile model\n",
    "model.compile(loss='mean_squared_error', optimizer='adam')"
   ]
  },
  {
   "cell_type": "code",
   "execution_count": 2,
   "metadata": {
    "collapsed": true
   },
   "outputs": [],
   "source": [
    "l1 = model.layers[0]"
   ]
  },
  {
   "cell_type": "code",
   "execution_count": 23,
   "metadata": {
    "collapsed": false
   },
   "outputs": [
    {
     "name": "stdout",
     "output_type": "stream",
     "text": [
      "Step  0\n"
     ]
    }
   ],
   "source": [
    "def init_model(nn_layer1=100, nn_layer2=50):\n",
    "    # construct regression model\n",
    "    model = Sequential()\n",
    "    model.add(Dense(nn_layer1, input_shape=(1,), init='normal', activation='relu'))\n",
    "    model.add(Dense(nn_layer2, init='normal', activation='relu'))\n",
    "    model.add(Dense(1, init='normal'))\n",
    "\n",
    "    # Compile model\n",
    "    model.compile(loss='mean_squared_error', optimizer='adam')\n",
    "    return model\n",
    "\n",
    "\n",
    "# file and directory information\n",
    "data_dir = \"./data/\"\n",
    "out_dir = \"./results/\"\n",
    "f_prefix = \"synthetic_time_series_generator_RBFNetwork_kernel_gaussian_scheme\"\n",
    "f_scheme = \"switching\"\n",
    "\n",
    "# create files\n",
    "if not os.path.exists(out_dir):\n",
    "    os.makedirs(out_dir)\n",
    "loadfile = os.path.join(data_dir, f_prefix + \"_\" + f_scheme + \".pkl\")\n",
    "\n",
    "data_dict = pickle.load(open(loadfile, \"rb\"))\n",
    "orig_obs = data_dict['orig_func_obs']\n",
    "orig_data = data_dict['orig_func_data']\n",
    "orig_plot_vals = data_dict['orig_func_plot_vals']\n",
    "\n",
    "# get shapes of arrays\n",
    "data_dim = orig_data.shape[1]\n",
    "obs_dim = orig_obs.shape[1]\n",
    "plot_dim = orig_plot_vals.shape[1]\n",
    "nsamp = orig_data.shape[0]\n",
    "nsteps = orig_data.shape[2]\n",
    "nplot = orig_plot_vals.shape[0]\n",
    "data_start = 0\n",
    "data_end = 2*np.pi\n",
    "plot_data = np.linspace(data_start, data_end, nplot)\n",
    "plot_data_in = np.reshape(plot_data, (nplot, 1))\n",
    "pred_plot_vals = np.zeros(orig_plot_vals.shape)\n",
    "\n",
    "nlayer1 = 100\n",
    "nlayer2 = 50\n",
    "input_weight_vals = np.zeros((nlayer1, nsteps))\n",
    "mid_weight_vals = np.zeros((nlayer1, nlayer2, nsteps))\n",
    "output_weight_vals = np.zeros((nlayer2, nsteps))\n",
    "\n",
    "nframes = nsteps\n",
    "for i in xrange(1):\n",
    "    print \"Step \", i\n",
    "    curr_model = init_model(nn_layer1=nlayer1, nn_layer2=nlayer2)\n",
    "    curr_model.fit(orig_data[:, :, i], np.squeeze(orig_obs[:, :, i]), batch_size=200, nb_epoch=1000, verbose=0)\n",
    "    pred_plot_vals[:, :, i] = curr_model.predict(plot_data_in)\n",
    "    input_weight_vals[:, i] = curr_model.get_weights()[0].reshape((nlayer1,))\n",
    "    mid_weight_vals[:, :, i] = curr_model.get_weights()[2]  # weights of penultimate layer\n",
    "    output_weight_vals[:, i] = curr_model.get_weights()[3]  # weights of penultimate layer"
   ]
  },
  {
   "cell_type": "code",
   "execution_count": 24,
   "metadata": {
    "collapsed": false
   },
   "outputs": [
    {
     "name": "stdout",
     "output_type": "stream",
     "text": [
      "(500, 1) (500, 1)\n"
     ]
    }
   ],
   "source": [
    "print orig_data[:, :, i].shape, orig_obs[:, :, i].shape"
   ]
  },
  {
   "cell_type": "code",
   "execution_count": 25,
   "metadata": {
    "collapsed": false
   },
   "outputs": [],
   "source": [
    "l1 = curr_model.layers[0]"
   ]
  },
  {
   "cell_type": "code",
   "execution_count": 32,
   "metadata": {
    "collapsed": false
   },
   "outputs": [
    {
     "data": {
      "text/plain": [
       "array([-0.00587883, -0.0631838 , -0.03491333, -0.00597783, -0.00939155,\n",
       "       -0.05126859,  0.16648857,  0.25044489, -0.00599564, -0.15869416,\n",
       "       -0.01211807, -0.01122063, -0.00801027, -0.06922191, -0.00903771,\n",
       "       -0.01172417, -0.05956441, -0.05367146,  0.06304613,  0.1557167 ,\n",
       "       -0.07326406, -0.00596087, -0.02545241, -0.06467783, -0.06799357,\n",
       "       -0.00600539, -0.0191419 ,  0.05954603, -0.04201824, -0.0431719 ,\n",
       "       -0.05664695, -0.07214134, -0.00597259, -0.00796453,  0.09543817,\n",
       "       -0.06068489, -0.00599022, -0.05326713, -0.05119163, -0.0131403 ,\n",
       "        0.18062231, -0.08154652, -0.01081883,  0.165672  , -0.04682567,\n",
       "        0.17590453, -0.16074115, -0.0112678 , -0.00600264, -0.00600544], dtype=float32)"
      ]
     },
     "execution_count": 32,
     "metadata": {},
     "output_type": "execute_result"
    }
   ],
   "source": [
    "curr_model.get_weights()[3]"
   ]
  },
  {
   "cell_type": "code",
   "execution_count": 50,
   "metadata": {
    "collapsed": false
   },
   "outputs": [],
   "source": [
    "curr_data = orig_data[:, :, 0]\n",
    "curr_obs = np.squeeze(orig_obs[:, :, 0])\n",
    "\n",
    "# go through each layer, mapping the data and see if you get the same result\n",
    "l0 = curr_model.layers[0]\n",
    "l1 = curr_model.layers[1]\n",
    "l2 = curr_model.layers[2]"
   ]
  },
  {
   "cell_type": "code",
   "execution_count": 60,
   "metadata": {
    "collapsed": false
   },
   "outputs": [],
   "source": [
    "def map_data(model, data):\n",
    "    \"\"\"\n",
    "    Given a DNN keras model with dense layers all the way through, map the data until\n",
    "    the penultimate layer, before the final summation.\n",
    "\n",
    "    :param model: keras DNN model with Dense layers.\n",
    "    :param data: data of shape (N, D).\n",
    "    :return:\n",
    "    \"\"\"\n",
    "    mapped_data = data\n",
    "    nlayers = len(model.layers)\n",
    "    for i in xrange(nlayers-1):\n",
    "        curr_layer = model.layers[i]\n",
    "        mapped_data = curr_layer.activation(np.dot(mapped_data, curr_layer.get_weights()[0])\n",
    "                                            + curr_layer.get_weights()[1])\n",
    "    return mapped_data"
   ]
  },
  {
   "cell_type": "code",
   "execution_count": 103,
   "metadata": {
    "collapsed": false
   },
   "outputs": [],
   "source": [
    "mapped_data = map_data(curr_model, curr_data)\n",
    "mapped_preds = np.dot(mapped_data, model.layers[-1].get_weights()[0])\n",
    "curr_preds = curr_model.predict(curr_data)"
   ]
  },
  {
   "cell_type": "code",
   "execution_count": 104,
   "metadata": {
    "collapsed": false
   },
   "outputs": [
    {
     "name": "stdout",
     "output_type": "stream",
     "text": [
      "(500, 1) (500, 1)\n"
     ]
    }
   ],
   "source": [
    "print mapped_preds.shape, curr_preds.shape"
   ]
  },
  {
   "cell_type": "code",
   "execution_count": 105,
   "metadata": {
    "collapsed": false
   },
   "outputs": [
    {
     "name": "stdout",
     "output_type": "stream",
     "text": [
      "[[-0.1306423 ]\n",
      " [-0.13089383]\n",
      " [-0.13114536]\n",
      " [-0.1313969 ]\n",
      " [-0.13164843]\n",
      " [-0.13189996]\n",
      " [-0.1321515 ]\n",
      " [-0.13240303]\n",
      " [-0.13265456]\n",
      " [-0.1329061 ]] \n",
      "[[-0.51187468]\n",
      " [-0.50238252]\n",
      " [-0.49289119]\n",
      " [-0.48339936]\n",
      " [-0.47390747]\n",
      " [-0.46441594]\n",
      " [-0.45492411]\n",
      " [-0.44543222]\n",
      " [-0.4359405 ]\n",
      " [-0.42644879]]\n"
     ]
    }
   ],
   "source": [
    "print mapped_preds[0:10], \"\\n\",  curr_preds[0:10]"
   ]
  },
  {
   "cell_type": "code",
   "execution_count": 68,
   "metadata": {
    "collapsed": true
   },
   "outputs": [],
   "source": [
    "import theano as T"
   ]
  },
  {
   "cell_type": "code",
   "execution_count": 106,
   "metadata": {
    "collapsed": false
   },
   "outputs": [],
   "source": [
    "get_activations = T.function([curr_model.layers[0].input], curr_model.layers[1].output)"
   ]
  },
  {
   "cell_type": "code",
   "execution_count": 107,
   "metadata": {
    "collapsed": false
   },
   "outputs": [],
   "source": [
    "mapped_data2 = get_activations(curr_data.astype(np.float32))"
   ]
  },
  {
   "cell_type": "code",
   "execution_count": 108,
   "metadata": {
    "collapsed": false
   },
   "outputs": [],
   "source": [
    "mapped_preds2 = np.dot(mapped_data2, model.layers[-1].get_weights()[0]) + model.layers[-1].get_weights()[1]\n",
    "curr_preds = curr_model.predict(curr_data)"
   ]
  },
  {
   "cell_type": "code",
   "execution_count": 91,
   "metadata": {
    "collapsed": false
   },
   "outputs": [
    {
     "name": "stderr",
     "output_type": "stream",
     "text": [
      "/usr/lib/python2.7/site-packages/numpy/linalg/linalg.py:2168: FutureWarning: elementwise comparison failed; returning scalar instead, but in the future will perform elementwise comparison\n",
      "  (ord in ('f', 'fro') and ndim == 2) or\n"
     ]
    },
    {
     "ename": "ValueError",
     "evalue": "The truth value of an array with more than one element is ambiguous. Use a.any() or a.all()",
     "traceback": [
      "\u001b[0;31m---------------------------------------------------------------------------\u001b[0m",
      "\u001b[0;31mValueError\u001b[0m                                Traceback (most recent call last)",
      "\u001b[0;32m<ipython-input-91-d7b4ba1edd80>\u001b[0m in \u001b[0;36m<module>\u001b[0;34m()\u001b[0m\n\u001b[0;32m----> 1\u001b[0;31m \u001b[0;32mprint\u001b[0m \u001b[0mnp\u001b[0m\u001b[0;34m.\u001b[0m\u001b[0mlinalg\u001b[0m\u001b[0;34m.\u001b[0m\u001b[0mnorm\u001b[0m\u001b[0;34m(\u001b[0m\u001b[0mmapped_preds\u001b[0m\u001b[0;34m.\u001b[0m\u001b[0mT\u001b[0m\u001b[0;34m[\u001b[0m\u001b[0;36m0\u001b[0m\u001b[0;34m]\u001b[0m\u001b[0;34m,\u001b[0m \u001b[0mcurr_preds\u001b[0m\u001b[0;34m)\u001b[0m\u001b[0;34m\u001b[0m\u001b[0m\n\u001b[0m",
      "\u001b[0;32m/usr/lib/python2.7/site-packages/numpy/linalg/linalg.pyc\u001b[0m in \u001b[0;36mnorm\u001b[0;34m(x, ord, axis, keepdims)\u001b[0m\n\u001b[1;32m   2167\u001b[0m         if ((ord is None) or\n\u001b[1;32m   2168\u001b[0m             \u001b[0;34m(\u001b[0m\u001b[0mord\u001b[0m \u001b[0;32min\u001b[0m \u001b[0;34m(\u001b[0m\u001b[0;34m'f'\u001b[0m\u001b[0;34m,\u001b[0m \u001b[0;34m'fro'\u001b[0m\u001b[0;34m)\u001b[0m \u001b[0;32mand\u001b[0m \u001b[0mndim\u001b[0m \u001b[0;34m==\u001b[0m \u001b[0;36m2\u001b[0m\u001b[0;34m)\u001b[0m \u001b[0;32mor\u001b[0m\u001b[0;34m\u001b[0m\u001b[0m\n\u001b[0;32m-> 2169\u001b[0;31m             (ord == 2 and ndim == 1)):\n\u001b[0m\u001b[1;32m   2170\u001b[0m \u001b[0;34m\u001b[0m\u001b[0m\n\u001b[1;32m   2171\u001b[0m             \u001b[0mx\u001b[0m \u001b[0;34m=\u001b[0m \u001b[0mx\u001b[0m\u001b[0;34m.\u001b[0m\u001b[0mravel\u001b[0m\u001b[0;34m(\u001b[0m\u001b[0morder\u001b[0m\u001b[0;34m=\u001b[0m\u001b[0;34m'K'\u001b[0m\u001b[0;34m)\u001b[0m\u001b[0;34m\u001b[0m\u001b[0m\n",
      "\u001b[0;31mValueError\u001b[0m: The truth value of an array with more than one element is ambiguous. Use a.any() or a.all()"
     ],
     "output_type": "error"
    }
   ],
   "source": [
    ""
   ]
  },
  {
   "cell_type": "code",
   "execution_count": 100,
   "metadata": {
    "collapsed": false
   },
   "outputs": [
    {
     "name": "stdout",
     "output_type": "stream",
     "text": [
      "(500, 1) (500, 1)\n"
     ]
    }
   ],
   "source": [
    "print mapped_preds2.shape, curr_preds.shape"
   ]
  },
  {
   "cell_type": "code",
   "execution_count": 110,
   "metadata": {
    "collapsed": false
   },
   "outputs": [
    {
     "name": "stdout",
     "output_type": "stream",
     "text": [
      "-0.125998 \n",
      "-0.0651453\n"
     ]
    }
   ],
   "source": [
    "print np.mean(curr_preds), \"\\n\", np.mean(mapped_preds2)"
   ]
  },
  {
   "cell_type": "code",
   "execution_count": 111,
   "metadata": {
    "collapsed": false
   },
   "outputs": [
    {
     "data": {
      "image/png": "[encoded data removed]",
      "text/plain": [
       "<matplotlib.figure.Figure at 0x7f3a3f552d50>"
      ]
     },
     "metadata": {},
     "output_type": "display_data"
    }
   ],
   "source": [
    "import matplotlib.pyplot as plt\n",
    "\n",
    "sorted_preds = np.sort(curr_preds)\n",
    "sorted_m_preds2 = np.sort(mapped_preds2)\n",
    "\n",
    "plt.plot(curr_preds, 'b-')\n",
    "plt.plot(mapped_preds, 'r-')\n",
    "plt.show()"
   ]
  },
  {
   "cell_type": "code",
   "execution_count": 112,
   "metadata": {
    "collapsed": true
   },
   "outputs": [],
   "source": [
    "mapped_data_sorted = get_activations(np.sort(curr_data.astype(np.float32)))"
   ]
  },
  {
   "cell_type": "code",
   "execution_count": 115,
   "metadata": {
    "collapsed": false
   },
   "outputs": [
    {
     "data": {
      "image/png": "[encoded data removed]",
      "text/plain": [
       "<matplotlib.figure.Figure at 0x7f3a3ec20450>"
      ]
     },
     "metadata": {},
     "output_type": "display_data"
    }
   ],
   "source": [
    "plt.imshow(mapped_data_sorted)\n",
    "plt.show()"
   ]
  },
  {
   "cell_type": "code",
   "execution_count": 119,
   "metadata": {
    "collapsed": false
   },
   "outputs": [],
   "source": [
    "last_layer = curr_model.layers[2]"
   ]
  },
  {
   "cell_type": "code",
   "execution_count": 132,
   "metadata": {
    "collapsed": false
   },
   "outputs": [
    {
     "data": {
      "text/plain": [
       "1"
      ]
     },
     "execution_count": 132,
     "metadata": {},
     "output_type": "execute_result"
    }
   ],
   "source": [
    "curr_model.layers[0].input_shape[1]"
   ]
  },
  {
   "cell_type": "code",
   "execution_count": 137,
   "metadata": {
    "collapsed": false
   },
   "outputs": [
    {
     "name": "stdout",
     "output_type": "stream",
     "text": [
      "[1]\n"
     ]
    }
   ],
   "source": [
    "print [i for i in xrange(1, 2)]"
   ]
  },
  {
   "cell_type": "code",
   "execution_count": null,
   "metadata": {
    "collapsed": true
   },
   "outputs": [],
   "source": [
    ""
   ]
  }
 ],
 "metadata": {
  "kernelspec": {
   "display_name": "Python 2",
   "language": "python",
   "name": "python2"
  },
  "language_info": {
   "codemirror_mode": {
    "name": "ipython",
    "version": 2.0
   },
   "file_extension": ".py",
   "mimetype": "text/x-python",
   "name": "python",
   "nbconvert_exporter": "python",
   "pygments_lexer": "ipython2",
   "version": "2.7.12"
  }
 },
 "nbformat": 4,
 "nbformat_minor": 0
}